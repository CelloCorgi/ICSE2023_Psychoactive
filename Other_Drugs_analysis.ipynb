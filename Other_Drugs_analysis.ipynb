{
 "cells": [
  {
   "cell_type": "markdown",
   "metadata": {},
   "source": [
    "# Other Substances Data From Archival Cannabis Survey\n",
    "\n",
    "This Jupyter Notebook contains the analysis of the other substances section of archival data provided from Endres et al. from a survey they ran in 2021 on cannabis use in programming."
   ]
  },
  {
   "cell_type": "code",
   "execution_count": 19,
   "metadata": {},
   "outputs": [
    {
     "data": {
      "text/plain": [
       "'1.8.1'"
      ]
     },
     "execution_count": 19,
     "metadata": {},
     "output_type": "execute_result"
    }
   ],
   "source": [
    "import pandas as pd\n",
    "import numpy as np\n",
    "import matplotlib.pyplot as plt\n",
    "import scipy\n",
    "from scipy.stats import ttest_ind, binom_test, spearmanr\n",
    "from statsmodels.stats.proportion import proportions_ztest\n",
    "import matplotlib as mpl\n",
    "\n",
    "# some_file.py\n",
    "import sys\n",
    "# insert at 1, 0 is the script path (or '' in REPL)\n",
    "sys.path.insert(1, '/Users/BLINDED/Survey Analysis/HelperFunctions/')\n",
    "\n",
    "import HelperStatsFunctions as hs\n",
    "\n",
    "scipy.__version__"
   ]
  },
  {
   "cell_type": "markdown",
   "metadata": {},
   "source": [
    "# Load Data\n",
    "\n",
    "The cells below load the data I will be analyzing"
   ]
  },
  {
   "cell_type": "code",
   "execution_count": 21,
   "metadata": {},
   "outputs": [
    {
     "name": "stdout",
     "output_type": "stream",
     "text": [
      "(803, 376) (803, 444) (247, 2)\n"
     ]
    }
   ],
   "source": [
    "#Load the data\n",
    "\n",
    "raw_coded_data = pd.read_csv('/Users/BLINDED/Survey Analysis/Data/CodedData.csv')\n",
    "raw_cat_data = pd.read_csv('/Users/BLINDED/Survey Analysis/Data/CategoricalData.csv')\n",
    "raw_qualitative_data = pd.read_csv('/Users/BLINDED/Survey Analysis/Data/QualitativeData.csv')\n",
    "\n",
    "num_data = raw_coded_data[raw_coded_data['IsValid'] == True] \n",
    "cat_data = raw_cat_data[raw_cat_data['IsValid'] == True]\n",
    "qual_data = raw_qualitative_data[(raw_qualitative_data['Q7.6'] != \"-99\")&(raw_qualitative_data['Q7.6'].notnull())]\n",
    "qual_data = qual_data[['ResponseId','Q7.6']]\n",
    "print(num_data.shape, cat_data.shape, qual_data.shape)\n",
    "\n",
    "\n",
    "total_data_points = num_data.shape[0]"
   ]
  },
  {
   "cell_type": "markdown",
   "metadata": {},
   "source": [
    "# Quantitative Analysis of Other Substances\n",
    "\n",
    "\n",
    "This looks at the prevalence of other substance use in general and when programming"
   ]
  },
  {
   "cell_type": "code",
   "execution_count": 22,
   "metadata": {},
   "outputs": [],
   "source": [
    "# Meta variabls for this section\n",
    "# Q7.1: Have you used any of these drugs in the last year\n",
    "# Q7.2: Have you used any mind altering substances other than cannabis while programming in the last year?\n",
    "# Q7.3: Which ones have you used?\n",
    "# Q7.4: Are you more or less likely to use it than cannabis while programming?\n",
    "\n",
    "drugs = {'1': 'Alcohol',\n",
    "        '2': 'Tobacco',\n",
    "        '3': 'Caffine',\n",
    "        '4': 'Amphetamine',\n",
    "        '5': 'Inhalents',\n",
    "        '6': 'Cocaine',\n",
    "        '7': 'Opioids',\n",
    "        '8': 'Sedatives/Sleeping Pills',\n",
    "        '9': 'Hallucinogens',\n",
    "        '10': 'Other'}"
   ]
  },
  {
   "cell_type": "markdown",
   "metadata": {},
   "source": [
    "### Have used various substances at all in the past year"
   ]
  },
  {
   "cell_type": "code",
   "execution_count": 23,
   "metadata": {},
   "outputs": [
    {
     "name": "stdout",
     "output_type": "stream",
     "text": [
      "Percentage of participants who have used a given substance in the last year - note cannabis gaps are slightly different in year breaks\n",
      "               Substance  4+ per week  1-3 per week  1-3 per month  < 1 per month  not in last year  no response \n",
      "                Cannabis        16.31         15.19           8.47          12.45             47.45            1 \n",
      "                 Alcohol        11.71         30.26          25.53          16.31             15.82            3 \n",
      "                 Tobacco         4.23          1.99           2.99           9.71             80.82            2 \n",
      "             Amphetamine         3.61          0.25           1.12           4.48             90.16            3 \n",
      "               Inhalents          0.0           0.0           0.25           1.37             98.13            2 \n",
      "                 Cocaine         0.12           0.0           0.25           2.74             96.51            3 \n",
      "                 Opioids         0.12           0.0           0.12           1.12             98.38            2 \n",
      "Sedatives/Sleeping Pills         0.12          0.75           1.37           1.37             96.01            3 \n",
      "           Hallucinogens          0.0          0.12           1.12           14.2             84.18            3 \n",
      "                   Other         2.74          0.25           0.37            0.5             43.34          424 \n"
     ]
    }
   ],
   "source": [
    "# General substance use in the last year\n",
    "\n",
    "latex_table = [['Substance', '4+ per week', '1-3 per week', '1-3 per month', '< 1 per month', 'not in last year', 'no response']]\n",
    "cannabis_val_counts = num_data['Q5.3'].value_counts()\n",
    "\n",
    "# Add cannabis to the table - I double-counted that this adds to 803\n",
    "first_row = ['Cannabis', \n",
    "                cannabis_val_counts.get(10) + cannabis_val_counts.get(11) + cannabis_val_counts.get(12), # 5 or more times per week \n",
    "                cannabis_val_counts.get(7) + cannabis_val_counts.get(8) + cannabis_val_counts.get(9), # once to 4 times a week (note 9 is the one making this different than the other substances)\n",
    "                cannabis_val_counts.get(5) + cannabis_val_counts.get(6), # 1-3 times per month \n",
    "                cannabis_val_counts.get(2) + cannabis_val_counts.get(3) + cannabis_val_counts.get(4), # Once per year to less than once per month\n",
    "                cannabis_val_counts.get(0) + cannabis_val_counts.get(1) + num_data['Q5.1'].value_counts()[-1], # \"less than once per year / not in last year\"\n",
    "                cannabis_val_counts.get(-99)] # Did not answer but saw it (so did not answer not in last year)\n",
    "\n",
    "# Make sure we have the right number of entries for the cannabis data\n",
    "assert(sum(first_row[1:]) == num_data.shape[0])\n",
    "\n",
    "total_data_points = num_data.shape[0]\n",
    "\n",
    "# Turn the first row into percentages of the total (all except the saw but did not answer)\n",
    "for i in range(1, len(first_row) - 1): # Turn into percentages of all users who entered at least one response\n",
    "    first_row[i] = round(first_row[i] / total_data_points * 100, 2) # Get the percentage of all users here \n",
    "latex_table.append(first_row)\n",
    "\n",
    "# Add in the non cannabis drugs\n",
    "for k, v in drugs.items():\n",
    "    if v== \"Caffine\": continue # skip caffine\n",
    "    current_val_counts = num_data['Q7.1_' + k].value_counts()\n",
    "    current_row = [v, current_val_counts.get(4), current_val_counts.get(3), current_val_counts.get(2), current_val_counts.get(1), current_val_counts.get(0), current_val_counts.get(-99)]\n",
    "    current_row = [x if x is not None else 0 for x in current_row] # Get rid of None values\n",
    "\n",
    "    for i in range(1, len(current_row) - 1): # Turn into percentages of all users who entered at least one response\n",
    "        current_row[i] = round(current_row[i] / total_data_points * 100, 2) # Get the percentage of all users here \n",
    "    latex_table.append(current_row)\n",
    "\n",
    "print('Percentage of participants who have used a given substance in the last year - note cannabis gaps are slightly different in year breaks')\n",
    "hs.print_latex(latex_table, False)\n"
   ]
  },
  {
   "cell_type": "markdown",
   "metadata": {},
   "source": [
    "### Have used any substance while programming in the last year"
   ]
  },
  {
   "cell_type": "code",
   "execution_count": 24,
   "metadata": {},
   "outputs": [
    {
     "name": "stdout",
     "output_type": "stream",
     "text": [
      "205 74\n",
      "Percentage of participants who used a mind-altering substances while completing a software engineering-related task in the last year\n",
      "   Response  Percent  Raw Number \n",
      "        Yes     58.9         473 \n",
      "         No     40.1         322 \n",
      "     Unsure      0.5           4 \n",
      "No response      0.5           4 \n"
     ]
    }
   ],
   "source": [
    "latex_table = [['Response', 'Percent', 'Raw Number']]\n",
    "\n",
    "# Those who have used a substance in the last year while programming\n",
    "substance_val_counts = num_data['Q7.2'].value_counts() #431\n",
    "substance_val_counts_minus_caffine = 399 # Calculated using qualtrics filtering\n",
    "\n",
    "# Need the number who have not used \n",
    "# Now, we are adding cannabis to these values\n",
    "has_used_cannabis_in_last_year = num_data[(num_data['Q6.02'] != 1)&(num_data['Q6.02'].notnull())&(num_data['Q6.02'] != -99)]\n",
    "has_only_used_cannabis_in_last_year = has_used_cannabis_in_last_year[has_used_cannabis_in_last_year['Q7.2'] == -1]\n",
    "\n",
    "print(has_used_cannabis_in_last_year.shape[0], has_only_used_cannabis_in_last_year.shape[0])\n",
    "\n",
    "# Now we are building the table\n",
    "has_used = substance_val_counts_minus_caffine + has_only_used_cannabis_in_last_year.shape[0]\n",
    "latex_table.append(['Yes', round(has_used / total_data_points * 100, 2), has_used])\n",
    "\n",
    "has_not_used = substance_val_counts.get(-1) - has_only_used_cannabis_in_last_year.shape[0] + substance_val_counts.get(1) - substance_val_counts_minus_caffine\n",
    "latex_table.append(['No', round(has_not_used / total_data_points * 100, 2), has_not_used])\n",
    "\n",
    "latex_table.append(['Unsure', round((substance_val_counts.get(0)) / total_data_points * 100, 2), substance_val_counts.get(0)])\n",
    "latex_table.append(['No response', round(substance_val_counts.get(-99) / total_data_points * 100, 2), substance_val_counts.get(-99)])\n",
    "\n",
    "print('Percentage of participants who used a mind-altering substances while completing a software engineering-related task in the last year')\n",
    "hs.print_latex(latex_table, False)\n"
   ]
  },
  {
   "cell_type": "markdown",
   "metadata": {},
   "source": [
    "### Have used various substances while programming at all during the last year"
   ]
  },
  {
   "cell_type": "code",
   "execution_count": 25,
   "metadata": {},
   "outputs": [
    {
     "name": "stdout",
     "output_type": "stream",
     "text": [
      "Percentage of responses that have used a substance while programming in the last year\n",
      "               Substance  % all when programming  % users when programming \n",
      "                 Alcohol                   24.53                     50.26 \n",
      "                 Tobacco                    5.73                     50.55 \n",
      "             Amphetamine                    4.73                     69.09 \n",
      "               Inhalents                     0.0                       0.0 \n",
      "                 Cocaine                    0.12                      5.26 \n",
      "                 Opioids                    0.37                      30.0 \n",
      "Sedatives/Sleeping Pills                    0.87                      35.0 \n",
      "           Hallucinogens                    2.12                     22.08 \n",
      "                   Other                    1.74                      5.74 \n",
      "Did cannabis using qualtrics filters - found 195 had used cannabis while programing in last year, or 24.4%\n"
     ]
    }
   ],
   "source": [
    "print(\"Percentage of responses that have used a substance while programming in the last year\")\n",
    "\n",
    "latex_table = [['Substance', '% all when programming', '% users when programming']]\n",
    "for k, v in drugs.items():\n",
    "    if v == \"Caffine\": continue # do not include caffine\n",
    "    if k == '10': k = '14'\n",
    "    current_val_counts = num_data['Q7.3_' + k].value_counts()\n",
    "    current_row = [v, current_val_counts.get(1), current_val_counts.get(-99)]\n",
    "    current_row = [x if x is not None else 0 for x in current_row] # Get rid of None values\n",
    "    current_row[2] = round(current_row[1] / (current_row[1] + current_row[2])*100, 2)\n",
    "    current_row[1] = round(current_row[1] / 803 * 100, 2)\n",
    "    latex_table.append(current_row)\n",
    "\n",
    "hs.print_latex(latex_table, False)\n",
    "\n",
    "print(\"Did cannabis using qualtrics filters - found 195 had used cannabis while programing in last year, or 24.4%\")"
   ]
  }
 ],
 "metadata": {
  "kernelspec": {
   "display_name": "Python 3.9.13 64-bit",
   "language": "python",
   "name": "python3"
  },
  "language_info": {
   "codemirror_mode": {
    "name": "ipython",
    "version": 3
   },
   "file_extension": ".py",
   "mimetype": "text/x-python",
   "name": "python",
   "nbconvert_exporter": "python",
   "pygments_lexer": "ipython3",
   "version": "3.9.13"
  },
  "orig_nbformat": 4,
  "vscode": {
   "interpreter": {
    "hash": "aee8b7b246df8f9039afb4144a1f6fd8d2ca17a180786b69acc140d282b71a49"
   }
  }
 },
 "nbformat": 4,
 "nbformat_minor": 2
}
